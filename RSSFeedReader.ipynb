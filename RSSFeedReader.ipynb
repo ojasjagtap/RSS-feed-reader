{
 "cells": [
  {
   "cell_type": "code",
   "execution_count": 1,
   "id": "ee14ae42",
   "metadata": {},
   "outputs": [],
   "source": [
    "import requests\n",
    "from bs4 import BeautifulSoup"
   ]
  },
  {
   "cell_type": "code",
   "execution_count": 2,
   "id": "7cf658da",
   "metadata": {},
   "outputs": [],
   "source": [
    "def generate_feed(url):\n",
    "    response = requests.get(url)\n",
    "    response.raise_for_status()\n",
    "    soup = BeautifulSoup(response.content, 'xml')\n",
    "    items = soup.findAll('item')\n",
    "    for item in items:\n",
    "        title = item.title.text\n",
    "        description = item.description.text\n",
    "        link = item.link.text\n",
    "        print(f'Title: {title}')\n",
    "        print(f'Description: {description}')\n",
    "        print(f'Link: {link}')\n",
    "        print()"
   ]
  },
  {
   "cell_type": "code",
   "execution_count": 3,
   "id": "e3ee273d",
   "metadata": {},
   "outputs": [],
   "source": [
    "def main():\n",
    "    while True:\n",
    "        try:\n",
    "            url = input('> ')\n",
    "            generate_feed(url)\n",
    "        except Exception:\n",
    "            break"
   ]
  },
  {
   "cell_type": "code",
   "execution_count": null,
   "id": "1089e9ee",
   "metadata": {
    "scrolled": false
   },
   "outputs": [
    {
     "name": "stdout",
     "output_type": "stream",
     "text": [
      "> https://rss.nytimes.com/services/xml/rss/nyt/US.xml\n",
      "Title: The Pennsylvania Fugitive: Why Wasn’t He Deported?\n",
      "Description: Undocumented immigrants accused of minor crimes are often sent back to their homelands. Danelo Cavalcante, who escaped from a U.S. prison, had been facing a murder charge in Brazil.\n",
      "Link: https://www.nytimes.com/2023/09/09/us/deportation-pennsylvania-fugitive-danelo-cavalcante.html\n",
      "\n",
      "Title: Judge Denies Meadows’s Request to Move Georgia Case to Federal Court\n",
      "Description: Moving the case to federal court would have given Mark Meadows, a former White House chief of staff, one key advantage: a jury pool that was more favorable to Donald J. Trump.\n",
      "Link: https://www.nytimes.com/2023/09/08/us/mark-meadows-georgia-federal-court-denial.html\n",
      "\n",
      "Title: Florida Approves Classic Learning Test for Use in College Admissions\n",
      "Description: Students can take the exam in place of the SAT or ACT. It’s the latest push by Gov. Ron DeSantis to remake his state’s education system.\n",
      "Link: https://www.nytimes.com/2023/09/08/us/florida-classical-learning-test-approval.html\n",
      "\n",
      "Title: Repair Blunders Led to Fatal Iowa Building Collapse, Investigators Find\n",
      "Description: The collapse, which left three people dead, happened after bricks were removed and a load-bearing wall was not properly supported, a report said.\n",
      "Link: https://www.nytimes.com/2023/09/08/us/iowa-building-collapse-causes.html\n",
      "\n",
      "Title: J.F.K. Assassination Witness Breaks His Silence and Raises New Questions\n",
      "Description: The account of Paul Landis, one of the Secret Service agents just feet away from John F. Kennedy when he was struck down, could change the understanding of what happened in Dallas in 1963.\n",
      "Link: https://www.nytimes.com/2023/09/09/us/politics/jfk-assassination-witness-paul-landis.html\n",
      "\n",
      "Title: Nari Ward and Cosmo Whyte Learn From Each Other\n",
      "Description: Nari Ward and Cosmo Whyte are from different generations, but their approaches are similar.\n",
      "Link: https://www.nytimes.com/2023/09/09/us/nari-ward-cosmo-whyte.html\n",
      "\n",
      "Title: Louisville to Pay $20 Million to Two Wrongly Convicted Men\n",
      "Description: Garr Keith Hardin and Jeffrey Clark spent decades of a life sentence in jail for a murder conviction. They were exonerated in 2018.\n",
      "Link: https://www.nytimes.com/2023/09/09/us/louisville-wrongful-murder-conviction-settlement.html\n",
      "\n",
      "Title: In Post-Roe America, Nikki Haley Seeks a New Path on Abortion for G.O.P.\n",
      "Description: In crafting an anti-abortion message that doesn’t alienate moderate Republicans and swing voters, her approach has won both supporters and detractors.\n",
      "Link: https://www.nytimes.com/2023/09/09/us/politics/haley-abortion-2024-presidential-race.html\n",
      "\n",
      "Title: Gavin Newsom Promotes Biden and Himself in a Delicate Dance\n",
      "Description: The California governor has become the most visible Democrat-in-waiting. His support of the president is a key part of his effort to put himself forward for the next campaign.\n",
      "Link: https://www.nytimes.com/2023/09/09/us/politics/gavin-newsom-democrats-white-house.html\n",
      "\n",
      "Title: He Was Just the I.T. Guy. Then He Got Caught in the Trump Documents Case.\n",
      "Description: Yuscil Taveras is among the little-known people with links to Donald Trump to have come under scrutiny. So far, he’s the only Trump employee known to have agreed to cooperate with prosecutors after facing charges.\n",
      "Link: https://www.nytimes.com/2023/09/09/us/politics/yuscil-taveras-trump-documents-case.html\n",
      "\n",
      "Title: Trump’s Resilience Leaves Major Republican Donors in Despair\n",
      "Description: The party’s big donors have made clear their distaste for the former president. Now, as he barrels toward the nomination, they are reacting with a mix of hand-wringing, calls to arms and fatalism.\n",
      "Link: https://www.nytimes.com/2023/09/09/us/politics/gop-donors-trump-primary.html\n",
      "\n",
      "Title: A Miracle in Missouri? The Nun Who Put Her Abbey on the Map.\n",
      "Description: Four years after her death, the body of Sister Wilhelmina Lancaster has not decomposed, her fellow nuns said. Believers come from all over to see for themselves.\n",
      "Link: https://www.nytimes.com/2023/09/09/us/missouri-nun-habit.html\n",
      "\n",
      "Title: ‘I’m Being Indicted for You,’ Trump Tells South Dakota Rally\n",
      "Description: In his first rally since his fourth indictment, the former president focused on his Republican rivals and President Biden, as some in the crowd wore Mr. Trump’s mug shot on their T-shirts.\n",
      "Link: https://www.nytimes.com/2023/09/09/us/politics/trump-rally-south-dakota.html\n",
      "\n",
      "Title: ‘Zip Tie Guy’ and His Mother Get Prison Terms in Jan. 6 Riot\n",
      "Description: Eric Munchel, 32, of Tennessee, was sentenced to nearly five years in prison in connection with the attack on the U.S. Capitol in 2021, while his mother, Lisa Eisenhart, 59, received a two-and-a-half-year term.\n",
      "Link: https://www.nytimes.com/2023/09/08/us/mother-son-guilty-jan-6-zip-ties.html\n",
      "\n",
      "Title: White House Urges Eligible Immigrants to Apply for Work Permits\n",
      "Description: The Biden administration is ramping up efforts to ensure that some migrants can quickly get jobs, in a bid to ease the spiraling political and financial costs of the crisis.\n",
      "Link: https://www.nytimes.com/2023/09/08/us/politics/migrant-work-permits.html\n",
      "\n",
      "Title: Manhunt for Pennsylvania Fugitive Grows as Guard Who Failed to Notice Escape Is Fired\n",
      "Description: The search is focused on an area near a sprawling botanical garden in the suburbs of Philadelphia. A guard who failed to notice the escapee was fired by the prison.\n",
      "Link: https://www.nytimes.com/2023/09/08/us/prison-escape-chester-county-cavalcante.html\n",
      "\n",
      "Title: In a Blunt Phone Call, Trump Weighs In on Arizona Senate Race\n",
      "Description: The former president made clear his preference in a potential primary between Blake Masters and Kari Lake, the most prominent names considering a run for the seat held by Senator Kyrsten Sinema.\n",
      "Link: https://www.nytimes.com/2023/09/08/us/politics/trump-blake-masters-kari-lake-primary-arizona.html\n",
      "\n",
      "Title: Justice Dept. Asks Supreme Court to Hear Abortion Pill Case\n",
      "Description: The case sets up a showdown before the court on the availability of the most common method of terminating pregnancies.\n",
      "Link: https://www.nytimes.com/2023/09/08/us/politics/supreme-court-abortion-pill.html\n",
      "\n",
      "Title: Here Are the 20 Oldest Members of Congress\n",
      "Description: Congress has long been an institution that runs on seniority and rewards longevity, and these veteran lawmakers are still running the country at an age when most people are well into retirement.\n",
      "Link: https://www.nytimes.com/2023/09/08/us/politics/oldest-members-of-congress.html\n",
      "\n",
      "Title: Seeking Link to Trump, Prosecutors Questioned Proud Boys Leader Enrique Tarrio\n",
      "Description: Enrique Tarrio said in an interview that prosecutors believed he had communicated with President Donald Trump through intermediaries before the Jan. 6, 2021, attack on the Capitol.\n",
      "Link: https://www.nytimes.com/2023/09/08/us/politics/tarrio-trump-jan-6.html\n",
      "\n",
      "Title: A U.S. citizen is among Navalny supporters detained in Russia.\n",
      "Description: The American was accused of donating money to the jailed opposition leader’s Anti-Corruption Foundation, which the Russian government considers an extremist organization.\n",
      "Link: https://www.nytimes.com/2023/09/08/us/a-us-citizen-is-among-navalny-supporters-detained-in-russia.html\n",
      "\n"
     ]
    }
   ],
   "source": [
    "if __name__ == '__main__':\n",
    "    main()"
   ]
  },
  {
   "cell_type": "code",
   "execution_count": null,
   "id": "5d40f055",
   "metadata": {},
   "outputs": [],
   "source": []
  }
 ],
 "metadata": {
  "kernelspec": {
   "display_name": "Python 3 (ipykernel)",
   "language": "python",
   "name": "python3"
  },
  "language_info": {
   "codemirror_mode": {
    "name": "ipython",
    "version": 3
   },
   "file_extension": ".py",
   "mimetype": "text/x-python",
   "name": "python",
   "nbconvert_exporter": "python",
   "pygments_lexer": "ipython3",
   "version": "3.9.13"
  }
 },
 "nbformat": 4,
 "nbformat_minor": 5
}
